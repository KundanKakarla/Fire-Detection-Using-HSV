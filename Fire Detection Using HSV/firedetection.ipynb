{
 "cells": [
  {
   "cell_type": "code",
   "execution_count": 2,
   "metadata": {},
   "outputs": [],
   "source": [
    "import cv2\n",
    "import numpy as np"
   ]
  },
  {
   "cell_type": "code",
   "execution_count": 3,
   "metadata": {},
   "outputs": [],
   "source": [
    "# cap = cv2.VideoCapture('fire_video.mp4')\n",
    "cap = cv2.VideoCapture(0)"
   ]
  },
  {
   "cell_type": "code",
   "execution_count": 4,
   "metadata": {},
   "outputs": [],
   "source": [
    "\n",
    "while True:\n",
    "    ret, frame = cap.read()\n",
    "    \n",
    "    if not ret:\n",
    "        break\n",
    "\n",
    "    frame = cv2.resize(frame, (640, 480))\n",
    "\n",
    "\n",
    "    #now convert rgb to HSV\n",
    "    hsv = cv2.cvtColor(frame, cv2.COLOR_BGR2HSV)\n",
    "\n",
    "\n",
    "\n",
    "    lower_fire_red = np.array([0, 150, 150])      # Red\n",
    "    upper_fire_red = np.array([10, 255, 255])\n",
    "\n",
    "    lower_fire_orange = np.array([10, 150, 150])   # Orange\n",
    "    upper_fire_orange = np.array([25, 255, 255])\n",
    "\n",
    "    lower_fire_yellow = np.array([25, 100, 150])   # Yellow\n",
    "    upper_fire_yellow = np.array([50, 255, 255])\n",
    "    \n",
    "\n",
    "\n",
    "    #masking the colors for the cap\n",
    "    mask_red = cv2.inRange(hsv, lower_fire_red, upper_fire_red)\n",
    "    mask_orange = cv2.inRange(hsv, lower_fire_orange, upper_fire_orange)\n",
    "    mask_yellow = cv2.inRange(hsv, lower_fire_yellow, upper_fire_yellow)\n",
    "\n",
    "    # fuse the masks and store in a variable\n",
    "    fire_mask = mask_red | mask_orange | mask_yellow\n",
    "    \n",
    "    #to reduce the noise\n",
    "    fire_mask = cv2.GaussianBlur(fire_mask, (15, 15), 0)\n",
    "\n",
    "\n",
    "\n",
    "    # using contours we makin a box around the fire\n",
    "    contours, _ = cv2.findContours(fire_mask, cv2.RETR_TREE, cv2.CHAIN_APPROX_SIMPLE)\n",
    "    \n",
    "    for contour in contours:\n",
    "        if cv2.contourArea(contour) > 500:  #to reduce the noise it removes the extra detection part in a video/real time video feed\n",
    "            x, y, w, h = cv2.boundingRect(contour) #rectangle\n",
    "            cv2.rectangle(frame, (x, y), (x + w, y + h), (0, 255, 0), 2)\n",
    "\n",
    "            #x+w is starting y+h is ending\n",
    "\n",
    "            \n",
    "    cv2.imshow('Fire Detection', frame)\n",
    "\n",
    "    if cv2.waitKey(1) & 0xFF == ord('q'):\n",
    "        break   #to break the frames\n",
    "\n",
    "cap.release()\n",
    "cv2.destroyAllWindows() #destroy loops parts that genrate the video capturess>???"
   ]
  }
 ],
 "metadata": {
  "kernelspec": {
   "display_name": "Python 3",
   "language": "python",
   "name": "python3"
  },
  "language_info": {
   "codemirror_mode": {
    "name": "ipython",
    "version": 3
   },
   "file_extension": ".py",
   "mimetype": "text/x-python",
   "name": "python",
   "nbconvert_exporter": "python",
   "pygments_lexer": "ipython3",
   "version": "3.12.6"
  }
 },
 "nbformat": 4,
 "nbformat_minor": 2
}
